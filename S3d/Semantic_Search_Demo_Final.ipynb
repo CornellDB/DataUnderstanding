{
 "cells": [
  {
   "cell_type": "markdown",
   "metadata": {},
   "source": [
    "# Semantic Search Demo\n"
   ]
  },
  {
   "cell_type": "markdown",
   "metadata": {},
   "source": [
    "## Import the package"
   ]
  },
  {
   "cell_type": "code",
   "execution_count": 1,
   "metadata": {},
   "outputs": [],
   "source": [
    "import warnings\n",
    "warnings.filterwarnings('ignore')\n",
    "import pandas as pd\n",
    "%load_ext mocodo_magic\n",
    "\n",
    "from semantic_explanation import Query,get_concept,concept_search\n",
    "from IPython.display import clear_output\n"
   ]
  },
  {
   "cell_type": "code",
   "execution_count": 2,
   "metadata": {},
   "outputs": [],
   "source": [
    "from __future__ import print_function\n",
    "from ipywidgets import interact, interactive, fixed, interact_manual\n",
    "import ipywidgets as widgets\n",
    "from ipywidgets import Button, Layout\n",
    "from ipywidgets import Button, HBox, VBox\n",
    "\n",
    "df=''\n",
    "jd=''\n",
    "join_disp=widgets.Button(\n",
    "    value=False,\n",
    "    description='Get joinable tables',\n",
    "    disabled=False,\n",
    "    button_style='', # 'success', 'info', 'warning', 'danger' or ''\n",
    "    tooltip='Description'\n",
    ")\n",
    "\n",
    "textquery=widgets.Text(\n",
    "    value='',\n",
    "    placeholder='Type something',\n",
    "    description='Query:',\n",
    "    disabled=False\n",
    ")\n",
    "query_submit=widgets.Button(\n",
    "    value=False,\n",
    "    description='Search',\n",
    "    disabled=False,\n",
    "    button_style='', # 'success', 'info', 'warning', 'danger' or ''\n",
    "    tooltip='Description'\n",
    ")\n",
    "\n",
    "def read_file(b):\n",
    "    filename= (list(upload.value.keys())[0])\n",
    "    global df\n",
    "    df = pd.read_csv(filename)\n",
    "    print('Input dataset:')\n",
    "    display(df.head())\n",
    "    global jd\n",
    "    jd=concept_search.join_datasets(df)\n",
    "    \n",
    "\n",
    "def get_joinable(b):\n",
    "    clear_output(wait=True)\n",
    "    display(HBox([upload,submit]))\n",
    "    print (\"Predefined search options\")\n",
    "    display(HBox([join_disp,addrows,index]))\n",
    "    display(HBox([textquery,query_submit]))\n",
    "    global jd\n",
    "    jd=concept_search.join_datasets(df)\n",
    "    jd.query(\"similar tables to input df\")\n",
    "    \n",
    "def search_query(b):\n",
    "    clear_output(wait=True)\n",
    "    display(HBox([upload,submit]))\n",
    "    print (\"Predefined search options\")\n",
    "    display(HBox([join_disp,addrows,index]))\n",
    "    display(HBox([textquery,query_submit]))\n",
    "    global jd\n",
    "    df=pd.DataFrame()\n",
    "    jd=concept_search.join_datasets(df)\n",
    "    jd.query(textquery.value)\n",
    "def add_rows(b):\n",
    "    clear_output(wait=True)\n",
    "    display(HBox([upload,submit]))\n",
    "    print (\"Predefined search options\")\n",
    "    display(HBox([join_disp,addrows,index]))\n",
    "    display(HBox([textquery,query_submit]))\n",
    "    global jd\n",
    "    out=jd.add_rows()\n",
    "    display(out)\n",
    "def show_index(b):\n",
    "    clear_output(wait=True)\n",
    "    display(HBox([upload,submit]))\n",
    "    print (\"Predefined search options\")\n",
    "    display(HBox([join_disp,addrows,index]))\n",
    "    display(HBox([textquery,query_submit]))\n",
    "    global jd\n",
    "    out=jd.show_index()\n"
   ]
  },
  {
   "cell_type": "code",
   "execution_count": 3,
   "metadata": {},
   "outputs": [],
   "source": [
    "upload=widgets.FileUpload(\n",
    "    accept='',  \n",
    "    multiple=False,\n",
    "\n",
    ")\n",
    "submit=widgets.Button(\n",
    "    value=False,\n",
    "    description='Upload',\n",
    "    disabled=False,\n",
    "    button_style='', # 'success', 'info', 'warning', 'danger' or ''\n",
    "    tooltip='Description',\n",
    "    layout=Layout(color='red')\n",
    ")\n",
    "submit.style.button_color = 'lightgreen'\n"
   ]
  },
  {
   "cell_type": "code",
   "execution_count": 4,
   "metadata": {},
   "outputs": [],
   "source": [
    "addrows=widgets.Button(\n",
    "    value=False,\n",
    "    description='Search new rows',\n",
    "    disabled=False,\n",
    "    button_style='', # 'success', 'info', 'warning', 'danger' or ''\n",
    "    tooltip='Description',\n",
    "    layout=Layout(color='red')\n",
    ")\n",
    "index=widgets.Button(\n",
    "    value=False,\n",
    "    description='Show index snapshot',\n",
    "    disabled=False,\n",
    "    button_style='', # 'success', 'info', 'warning', 'danger' or ''\n",
    "    tooltip='Description',\n",
    "    layout=Layout(color='red')\n",
    ")"
   ]
  },
  {
   "cell_type": "code",
   "execution_count": null,
   "metadata": {},
   "outputs": [],
   "source": []
  },
  {
   "cell_type": "code",
   "execution_count": 5,
   "metadata": {},
   "outputs": [],
   "source": [
    "submit.on_click(read_file)\n",
    "join_disp.on_click(get_joinable)\n",
    "query_submit.on_click(search_query)\n",
    "addrows.on_click(add_rows)\n",
    "index.on_click(show_index)"
   ]
  },
  {
   "cell_type": "code",
   "execution_count": 6,
   "metadata": {},
   "outputs": [
    {
     "data": {
      "application/vnd.jupyter.widget-view+json": {
       "model_id": "8dfd752f751e42719444ec5fb087fa23",
       "version_major": 2,
       "version_minor": 0
      },
      "text/plain": [
       "HBox(children=(FileUpload(value={}, description='Upload'), Button(description='Upload', style=ButtonStyle(butt…"
      ]
     },
     "metadata": {},
     "output_type": "display_data"
    },
    {
     "name": "stdout",
     "output_type": "stream",
     "text": [
      "Predefined search options\n"
     ]
    },
    {
     "data": {
      "application/vnd.jupyter.widget-view+json": {
       "model_id": "e3bf2c9ab6ed45f2b934c7cfde344bcb",
       "version_major": 2,
       "version_minor": 0
      },
      "text/plain": [
       "HBox(children=(Button(description='Get joinable tables', style=ButtonStyle(), tooltip='Description'), Button(d…"
      ]
     },
     "metadata": {},
     "output_type": "display_data"
    },
    {
     "data": {
      "application/vnd.jupyter.widget-view+json": {
       "model_id": "d17c5400cbe04bfd99477217d52417bc",
       "version_major": 2,
       "version_minor": 0
      },
      "text/plain": [
       "HBox(children=(Text(value='', description='Query:', placeholder='Type something'), Button(description='Search'…"
      ]
     },
     "metadata": {},
     "output_type": "display_data"
    }
   ],
   "source": [
    "display(HBox([upload,submit]))\n",
    "print (\"Predefined search options\")\n",
    "display(HBox([join_disp,addrows,index]))\n",
    "display(HBox([textquery,query_submit]))"
   ]
  },
  {
   "cell_type": "code",
   "execution_count": 7,
   "metadata": {},
   "outputs": [],
   "source": [
    "#identify tables with concept mountain\""
   ]
  },
  {
   "cell_type": "code",
   "execution_count": null,
   "metadata": {},
   "outputs": [],
   "source": []
  },
  {
   "cell_type": "code",
   "execution_count": null,
   "metadata": {},
   "outputs": [],
   "source": []
  },
  {
   "cell_type": "code",
   "execution_count": null,
   "metadata": {},
   "outputs": [],
   "source": []
  }
 ],
 "metadata": {
  "kernelspec": {
   "display_name": "Python 3",
   "language": "python",
   "name": "python3"
  },
  "language_info": {
   "codemirror_mode": {
    "name": "ipython",
    "version": 3
   },
   "file_extension": ".py",
   "mimetype": "text/x-python",
   "name": "python",
   "nbconvert_exporter": "python",
   "pygments_lexer": "ipython3",
   "version": "3.7.6"
  }
 },
 "nbformat": 4,
 "nbformat_minor": 2
}
